{
  "nbformat": 4,
  "nbformat_minor": 0,
  "metadata": {
    "colab": {
      "name": "Comandos_github.ipynb",
      "provenance": [],
      "authorship_tag": "ABX9TyNifdaWzu6lG6JSEcFTy+ex",
      "include_colab_link": true
    },
    "kernelspec": {
      "name": "python3",
      "display_name": "Python 3"
    },
    "language_info": {
      "name": "python"
    }
  },
  "cells": [
    {
      "cell_type": "markdown",
      "metadata": {
        "id": "view-in-github",
        "colab_type": "text"
      },
      "source": [
        "<a href=\"https://colab.research.google.com/github/Marisolar28/Investigacion_acerca_de_GitHub/blob/git_branch/Comandos_github.ipynb\" target=\"_parent\"><img src=\"https://colab.research.google.com/assets/colab-badge.svg\" alt=\"Open In Colab\"/></a>"
      ]
    },
    {
      "cell_type": "code",
      "execution_count": null,
      "metadata": {
        "id": "mORpnl3J05a3"
      },
      "outputs": [],
      "source": [
        ""
      ]
    },
    {
      "cell_type": "markdown",
      "source": [
        "# ** Comandos de Github que deberíamos saber**\n",
        "\n",
        "1. ***Git Clone:*** Realiza una copia idéntica de la última versión de un proyecto y lo guarda en tu computadora.\n",
        "git clone <https://link-con-nombre-del-repositorio>si queremos descargar un proyecto desde github todo lo que se debe hacer es dar click en el botón verde (clonar- descargar) y pegarla en el comando git que se mencionó anteriormente.\n",
        "\n",
        "2. ***Git Branch***: las ramas o branch son importantes ya que permiten trabajar en paralelo en el mismo proyecto simultáneamente.\n",
        "  crear una nueva rama: git branch <nombre-de-la-rama>\n",
        "  enviar una rama al repositorio: git push <nombre-remoto> <nombre-rama>\n",
        "  visualizar las ramas: git branch /git branch --list\n",
        "  borrar una rama: git branch -d <nombre-de-la-rama>\n",
        "  cambiar de una rama a otra: git checkout <nombre-de-la-rama>\n",
        "para cambiar de una rama a otra los cambios de la rama deben estar confirmados o almacenados en el guardado rapido y la rama a la que se desea cambiar debe existir en local.\n",
        "\n",
        "3. ***Git Status:*** nos da toda la información necesaria sobre la rama actual. Por ejemplo podemos revisar si la rama actual está actualizada, si hay algo que confirmar, enviar o recibir (pull). Si hay archivos en preparación o que no están recibiendo seguimiento.\n",
        "Si hay archivos creados, modificados o eliminados.\n",
        "\n",
        "4. ***Git Commit:*** es el comando más utilizado ya que permite establecer un punto de control en el proceso de desarrollo el cual se puede retomar más tarde si es necesario. Guarda los cambios únicamente en local.\n",
        "git commit -m \"mensaje de confirmación\"\n",
        "\n",
        "5. ***Git Push:*** Luego de haber confirmado los cambios el siguiente paso es enviar los cambios al servidor remoto con git push se envían los cambios al servidor remoto. git push <nombre-remoto> <nombre-de-tu-rama>\n",
        "git push --set-upstream <nombre-remoto> <nombre-de-tu-rama> Git Push solo carga los cambios que han sido confirmados. \n",
        "\n",
        "6. ***Git Pull:*** El comando git pull se utiliza para recibir actualizaciones del repositorio remoto. Este comando es una combinación del git fetch y del git merge lo cual significa que cundo usemos el git pull recogeremos actualizaciones del repositorio remoto (git fetch) e inmediatamente aplicamos estos últimos cambios en local (git merge)\n",
        "\n",
        "7. ***Git Revert:*** Nos ayuda a deshacer los commits ya sea en local o remoto, para ver el historial de commits primero hay que ver el historial usando git log--oneline. Entonces, solo necesitamos especificar el código de comprobación que encontrarás junto al commit que queremos deshacer:\n",
        "-- Ejemplo: git revert 3321844\n",
        "El comando git revert deshará el commit que le hemos indicado, pero creará un nuevo commit deshaciendo la anterior. El comando git revert deshará el commit que le hemos indicado, pero creará un nuevo commit deshaciendo la anterior. Otra medida de seguridad es que todo sucede en local a no ser que los enviemos al repositorio remoto. Por esto es que git revert es más seguro de usar y es la manera preferida para deshacer los commits.\n",
        "\n",
        "8. ***Git Merge:*** cuando se haya completado el desarrollo de un proyecto en tu rama y luego de haber comprobado que todo funciona bien el último paso es fusionar la rama con su rama principal o main, es importante recordar que se debe estar en la rama específica que quieres fusionar con la rama de carcterísticas. \n",
        "Paso 1. git checkout dev\n",
        "Paso 2. git fetch (actualizar la rama dev local)\n",
        "Paso 3. git merge <nombre-de-la-rama>\n"
      ],
      "metadata": {
        "id": "xSEA-8y_06zA"
      }
    }
  ]
}