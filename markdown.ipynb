{
 "cells": [
  {
   "cell_type": "markdown",
   "metadata": {},
   "source": [
    "## <b> Investigación de GIT </b>"
   ]
  },
  {
   "cell_type": "markdown",
   "metadata": {},
   "source": [
    "<p>\n",
    "Es un proyecto de código abierto muy bien respaldado con más de una década de gestión de gran fiabilidad. Los encargados de mantener el proyecto han demostrado \n",
    "un criterio equilibrado y un enfoque maduro para satisfacer las necesidades a largo plazo de sus usuarios con publicaciones periódicas que mejoran la facilidad\n",
    " de uso y la funcionalidad. La calidad del software de código abierto resulta sencilla de analizar y un sinnúmero de empresas dependen en gran medida de esa calidad.\n",
    "</p>\n",
    "\n",
    "<p>\n",
    "Git goza de una amplia base de usuarios y de un gran apoyo por parte de la comunidad. La documentación es excepcional y para nada escasa, ya que incluye libros, \n",
    "tutoriales y sitios web especializados, así como podcasts y tutoriales en vídeo.\n",
    "</p>"
   ]
  },
  {
   "cell_type": "markdown",
   "metadata": {},
   "source": [
    "### <b> Caracteristicas: </b>"
   ]
  },
  {
   "cell_type": "markdown",
   "metadata": {},
   "source": [
    "<li> Es muy potente </li>\n",
    "<li> Fue diseñada por Linus Torvalds </li>\n",
    "<li> No depende de un repositorio central </li>\n",
    "<li> Es software libre </li>\n",
    "<li> Con ella podemos mantener un historial completo de versiones </li>\n",
    "<li> Podemos movernos, como si tuviéramos un puntero en el tiempo, por todas las revisiones de código y desplazarnos una manera muy ágil. </li>\n",
    "<li> Es muy rápida </li>\n",
    "<li> Tiene un sistema de trabajo con ramas que lo hace especialmente potente </li>\n",
    "<li> En cuanto a la funcionalidad de las ramas, las mismas están destinadas a provocar proyectos divergentes de un proyecto principal, para hacer experimentos o para probar nuevas funcionalidades. </li>\n",
    "<li> Las ramas pueden tener una línea de progreso diferente de la rama principal donde está el core de nuestro desarrollo. En algún momento podemos llegar a probar algunas de esas mejoras o cambios en el código y hacer una fusión a nuestro proyecto principal, ya que todo esto lo maneja Git de una forma muy eficiente </li>\n"
   ]
  },
  {
   "cell_type": "markdown",
   "metadata": {},
   "source": [
    "### <b> Estructura de un proyecto de GIT </b>"
   ]
  },
  {
   "cell_type": "markdown",
   "metadata": {},
   "source": [
    "<li> El área del <b>working directory</b>, que es dónde vamos a tener todos nuestros ficheros, dónde estamos trabajando constantemente.</li>\n",
    "<li> El <b>staging area </b>, que es donde van los archivos que estamos modificando y que aceptamos para que vayan en una futura revisión.</li>\n",
    "<li> El <b>área de commit o el git directory</b>, que es dónde se almacenan la revisión completa.</li>\n"
   ]
  }
 ],
 "metadata": {
  "language_info": {
   "name": "python"
  },
  "orig_nbformat": 4
 },
 "nbformat": 4,
 "nbformat_minor": 2
}
