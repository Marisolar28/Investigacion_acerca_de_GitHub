{
  "nbformat": 4,
  "nbformat_minor": 0,
  "metadata": {
    "colab": {
      "name": "GitHub.ipynb",
      "provenance": [],
      "authorship_tag": "ABX9TyMG+lHiqEWdh+ysTCKHPoCG",
      "include_colab_link": true
    },
    "kernelspec": {
      "name": "python3",
      "display_name": "Python 3"
    },
    "language_info": {
      "name": "python"
    }
  },
  "cells": [
    {
      "cell_type": "markdown",
      "metadata": {
        "id": "view-in-github",
        "colab_type": "text"
      },
      "source": [
        "<a href=\"https://colab.research.google.com/github/Marisolar28/Investigacion_acerca_de_GitHub/blob/git_branch/GitHub.ipynb\" target=\"_parent\"><img src=\"https://colab.research.google.com/assets/colab-badge.svg\" alt=\"Open In Colab\"/></a>"
      ]
    },
    {
      "cell_type": "markdown",
      "source": [
        "**¿Qué es un repositorio?**\n",
        "En un repositorio se pueden almacenar todos los archivos de un proyecto así como el historial de revisiones de cada uno de ellos. En un repositorio se puede configurar el acceso gestionando la visibilidad del mismo. \n",
        "Para los repositorios que son propiedad de un usuario, se les puede otorgar acceso de colaboradores a otras personas.  Si un repositorio es propiedad de una organización,  se les puedes otorgar a los miembros de la organización permisos de acceso para colaborar en un repositorio."
      ],
      "metadata": {
        "id": "rAmbKqLv3XTi"
      }
    },
    {
      "cell_type": "markdown",
      "source": [
        "***¿Qué son las ramas o branches? ***\n",
        "GitBranches contiene una serie de commits, se puede tener tantas ramas como queramos. Son entornos independientes los unos de los otros para que un desarrollador o un back-end, front-end, tester, etc. pueda usar y así trabajar sobre un mismo proyecto sin borrar el conjunto de archivos originales del proyecto.:\\\n",
        "\n"
      ],
      "metadata": {
        "id": "rG3QWQqlu9F5"
      }
    },
    {
      "cell_type": "markdown",
      "source": [
        "Puedes utilizar las Ramas cuando en tu proyecto se encuentren muchos usuarios que necesiten acceso a los archivos del proyecto, como cada Rama es un entorno independiente, cada usuario podrá modificar los archivos según sea necesario y no altere los archivos de los demás usuarios en sus respectivas Ramas.\n"
      ],
      "metadata": {
        "id": "jcuNWVjUyOYO"
      }
    },
    {
      "cell_type": "markdown",
      "source": [
        ""
      ],
      "metadata": {
        "id": "_EcM0SYgyQyH"
      }
    },
    {
      "cell_type": "markdown",
      "source": [
        "**¿Qué son las pull request?**\n",
        "Un pull request es una petición que el propietario de un fork de un repositorio hace al propietario del repositorio original para que este último incorpore los commits que están en el fork. Permite realizar solicitudes de cambio, es básicamente decir se ha hecho estos cambios y se desea que antes de fusionar en una rama otros colaboradores del proyecto revisen. Son un mecanismo de colaboración para que otros compañeros brinden el feedback del código creado.\n",
        "\n"
      ],
      "metadata": {
        "id": "bOP11n7Cy5q6"
      }
    },
    {
      "cell_type": "markdown",
      "source": [
        "**¿Qué son issues en GitHub? ** \n",
        "las issues al igual que pool request son herramientas de comunicación, si se desea hacer alguna pregunta sobre el proyecto, o si se requiere una corrección en el proyecto se pueden utilizar issues. \n",
        "Un issue puede ser el arreglo de un fallo, una característica pedida, una tarea, una solicitud de Documentación en específico y todo tipo de solicitud al equipo de desarrollo\n"
      ],
      "metadata": {
        "id": "c-297NFd0pHJ"
      }
    },
    {
      "cell_type": "markdown",
      "source": [
        ""
      ],
      "metadata": {
        "id": "0m7bUh6J2tWh"
      }
    },
    {
      "cell_type": "markdown",
      "source": [
        ""
      ],
      "metadata": {
        "id": "KK5yfucxzIxR"
      }
    }
  ]
}
