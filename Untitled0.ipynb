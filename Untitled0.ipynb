{
  "nbformat": 4,
  "nbformat_minor": 0,
  "metadata": {
    "colab": {
      "name": "Untitled0.ipynb",
      "provenance": [],
      "authorship_tag": "ABX9TyPab9YX97WUU6nlNAnNlVVW",
      "include_colab_link": true
    },
    "kernelspec": {
      "name": "python3",
      "display_name": "Python 3"
    },
    "language_info": {
      "name": "python"
    }
  },
  "cells": [
    {
      "cell_type": "markdown",
      "metadata": {
        "id": "view-in-github",
        "colab_type": "text"
      },
      "source": [
        "<a href=\"https://colab.research.google.com/github/Marisolar28/Investigacion_acerca_de_GitHub/blob/git_branch/Untitled0.ipynb\" target=\"_parent\"><img src=\"https://colab.research.google.com/assets/colab-badge.svg\" alt=\"Open In Colab\"/></a>"
      ]
    },
    {
      "cell_type": "markdown",
      "source": [
        "***¿Qué son las ramas o branches? ***\n",
        "GitBranches contiene una serie de comits, se puede tener tantas ramas como queramos. Son entornos independientes los unos de los otros para que un desarrollador o un back-end, front-end, tester, etc. pueda usar y así trabajar sobre un mismo proyecto sin borrar el conjunto de archivos originales del proyecto.:\\\n",
        "\n"
      ],
      "metadata": {
        "id": "rG3QWQqlu9F5"
      }
    }
  ]
}